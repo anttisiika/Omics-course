{
 "cells": [
  {
   "cell_type": "code",
   "execution_count": 11,
   "metadata": {},
   "outputs": [
    {
     "name": "stderr",
     "output_type": "stream",
     "text": [
      "Warning message:\n",
      "“Missing column names filled in: 'X1' [1]”Parsed with column specification:\n",
      "cols(\n",
      "  X1 = col_integer(),\n",
      "  match = col_logical(),\n",
      "  searchTerm = col_character(),\n",
      "  drugName = col_character(),\n",
      "  geneID = col_integer(),\n",
      "  geneName = col_character(),\n",
      "  longGeneName = col_character(),\n",
      "  interaction = col_character()\n",
      ")\n"
     ]
    }
   ],
   "source": [
    "source('floroq_aaa_interaction.R')"
   ]
  },
  {
   "cell_type": "code",
   "execution_count": 14,
   "metadata": {},
   "outputs": [
    {
     "data": {
      "text/html": [
       "<table>\n",
       "<thead><tr><th scope=col>searchTerm</th><th scope=col>drugName</th><th scope=col>geneID</th><th scope=col>geneName</th><th scope=col>longGeneName</th><th scope=col>interaction</th></tr></thead>\n",
       "<tbody>\n",
       "\t<tr><td>DB04576                                  </td><td>FLEROXACIN                               </td><td>7153                                     </td><td>TOP2A                                    </td><td>DNA TOPOISOMERASE II ALPHA               </td><td>[u'inhibitor']                           </td></tr>\n",
       "\t<tr><td>DB04576                                  </td><td>FLEROXACIN                               </td><td>7155                                     </td><td>TOP2B                                    </td><td>DNA TOPOISOMERASE II BETA                </td><td>[u'inhibitor']                           </td></tr>\n",
       "\t<tr><td>DB01165                                  </td><td>OFLOXACIN                                </td><td>7153                                     </td><td>TOP2A                                    </td><td>DNA TOPOISOMERASE II ALPHA               </td><td>[u'inhibitor']                           </td></tr>\n",
       "\t<tr><td>DB01165                                  </td><td>OFLOXACIN                                </td><td>6539                                     </td><td>SLC6A12                                  </td><td>SOLUTE CARRIER FAMILY 6 MEMBER 12        </td><td>[u'inhibitor']                           </td></tr>\n",
       "\t<tr><td>DB01165                                  </td><td>OFLOXACIN                                </td><td>2936                                     </td><td>GSR                                      </td><td>GLUTATHIONE-DISULFIDE REDUCTASE          </td><td>[]                                       </td></tr>\n",
       "\t<tr><td>DB01165                                  </td><td>OFLOXACIN                                </td><td>4363                                     </td><td>ABCC1                                    </td><td>ATP BINDING CASSETTE SUBFAMILY C MEMBER 1</td><td>[]                                       </td></tr>\n",
       "</tbody>\n",
       "</table>\n"
      ],
      "text/latex": [
       "\\begin{tabular}{r|llllll}\n",
       " searchTerm & drugName & geneID & geneName & longGeneName & interaction\\\\\n",
       "\\hline\n",
       "\t DB04576                                   & FLEROXACIN                                & 7153                                      & TOP2A                                     & DNA TOPOISOMERASE II ALPHA                & {[}u'inhibitor'{]}                       \\\\\n",
       "\t DB04576                                   & FLEROXACIN                                & 7155                                      & TOP2B                                     & DNA TOPOISOMERASE II BETA                 & {[}u'inhibitor'{]}                       \\\\\n",
       "\t DB01165                                   & OFLOXACIN                                 & 7153                                      & TOP2A                                     & DNA TOPOISOMERASE II ALPHA                & {[}u'inhibitor'{]}                       \\\\\n",
       "\t DB01165                                   & OFLOXACIN                                 & 6539                                      & SLC6A12                                   & SOLUTE CARRIER FAMILY 6 MEMBER 12         & {[}u'inhibitor'{]}                       \\\\\n",
       "\t DB01165                                   & OFLOXACIN                                 & 2936                                      & GSR                                       & GLUTATHIONE-DISULFIDE REDUCTASE           & {[}{]}                                   \\\\\n",
       "\t DB01165                                   & OFLOXACIN                                 & 4363                                      & ABCC1                                     & ATP BINDING CASSETTE SUBFAMILY C MEMBER 1 & {[}{]}                                   \\\\\n",
       "\\end{tabular}\n"
      ],
      "text/markdown": [
       "\n",
       "searchTerm | drugName | geneID | geneName | longGeneName | interaction | \n",
       "|---|---|---|---|---|---|\n",
       "| DB04576                                   | FLEROXACIN                                | 7153                                      | TOP2A                                     | DNA TOPOISOMERASE II ALPHA                | [u'inhibitor']                            | \n",
       "| DB04576                                   | FLEROXACIN                                | 7155                                      | TOP2B                                     | DNA TOPOISOMERASE II BETA                 | [u'inhibitor']                            | \n",
       "| DB01165                                   | OFLOXACIN                                 | 7153                                      | TOP2A                                     | DNA TOPOISOMERASE II ALPHA                | [u'inhibitor']                            | \n",
       "| DB01165                                   | OFLOXACIN                                 | 6539                                      | SLC6A12                                   | SOLUTE CARRIER FAMILY 6 MEMBER 12         | [u'inhibitor']                            | \n",
       "| DB01165                                   | OFLOXACIN                                 | 2936                                      | GSR                                       | GLUTATHIONE-DISULFIDE REDUCTASE           | []                                        | \n",
       "| DB01165                                   | OFLOXACIN                                 | 4363                                      | ABCC1                                     | ATP BINDING CASSETTE SUBFAMILY C MEMBER 1 | []                                        | \n",
       "\n",
       "\n"
      ],
      "text/plain": [
       "  searchTerm drugName   geneID geneName\n",
       "1 DB04576    FLEROXACIN 7153   TOP2A   \n",
       "2 DB04576    FLEROXACIN 7155   TOP2B   \n",
       "3 DB01165    OFLOXACIN  7153   TOP2A   \n",
       "4 DB01165    OFLOXACIN  6539   SLC6A12 \n",
       "5 DB01165    OFLOXACIN  2936   GSR     \n",
       "6 DB01165    OFLOXACIN  4363   ABCC1   \n",
       "  longGeneName                              interaction   \n",
       "1 DNA TOPOISOMERASE II ALPHA                [u'inhibitor']\n",
       "2 DNA TOPOISOMERASE II BETA                 [u'inhibitor']\n",
       "3 DNA TOPOISOMERASE II ALPHA                [u'inhibitor']\n",
       "4 SOLUTE CARRIER FAMILY 6 MEMBER 12         [u'inhibitor']\n",
       "5 GLUTATHIONE-DISULFIDE REDUCTASE           []            \n",
       "6 ATP BINDING CASSETTE SUBFAMILY C MEMBER 1 []            "
      ]
     },
     "metadata": {},
     "output_type": "display_data"
    }
   ],
   "source": [
    "drug_interactions  %>% head"
   ]
  },
  {
   "cell_type": "code",
   "execution_count": null,
   "metadata": {},
   "outputs": [],
   "source": []
  },
  {
   "cell_type": "code",
   "execution_count": null,
   "metadata": {},
   "outputs": [],
   "source": []
  }
 ],
 "metadata": {
  "kernelspec": {
   "display_name": "R",
   "language": "R",
   "name": "ir"
  },
  "language_info": {
   "codemirror_mode": "r",
   "file_extension": ".r",
   "mimetype": "text/x-r-source",
   "name": "R",
   "pygments_lexer": "r",
   "version": "3.4.3"
  }
 },
 "nbformat": 4,
 "nbformat_minor": 2
}
