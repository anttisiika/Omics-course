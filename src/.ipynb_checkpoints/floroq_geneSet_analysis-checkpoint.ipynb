{
 "cells": [
  {
   "cell_type": "markdown",
   "metadata": {},
   "source": [
    "## Floroq-geneSet analysis"
   ]
  },
  {
   "cell_type": "code",
   "execution_count": 2,
   "metadata": {},
   "outputs": [
    {
     "name": "stderr",
     "output_type": "stream",
     "text": [
      "Loading required package: ggplot2\n",
      "Loading required package: magrittr\n"
     ]
    }
   ],
   "source": [
    "library(ggpubr)"
   ]
  },
  {
   "cell_type": "code",
   "execution_count": 3,
   "metadata": {
    "collapsed": true
   },
   "outputs": [
    {
     "name": "stderr",
     "output_type": "stream",
     "text": [
      "-- Attaching packages --------------------------------------- tidyverse 1.2.1 --\n",
      "v tibble  1.4.2     v purrr   0.2.5\n",
      "v tidyr   0.8.1     v dplyr   0.7.6\n",
      "v readr   1.1.1     v stringr 1.3.1\n",
      "v tibble  1.4.2     v forcats 0.3.0\n",
      "-- Conflicts ------------------------------------------ tidyverse_conflicts() --\n",
      "x tidyr::extract()   masks magrittr::extract()\n",
      "x dplyr::filter()    masks stats::filter()\n",
      "x dplyr::lag()       masks stats::lag()\n",
      "x purrr::set_names() masks magrittr::set_names()\n",
      "Warning message:\n",
      "\"Missing column names filled in: 'X1' [1]\"Parsed with column specification:\n",
      "cols(\n",
      "  X1 = col_integer(),\n",
      "  match = col_logical(),\n",
      "  searchTerm = col_character(),\n",
      "  drugName = col_character(),\n",
      "  geneID = col_integer(),\n",
      "  geneName = col_character(),\n",
      "  longGeneName = col_character(),\n",
      "  interaction = col_character()\n",
      ")\n",
      "Warning message:\n",
      "\"Missing column names filled in: 'X1' [1]\"Parsed with column specification:\n",
      "cols(\n",
      "  X1 = col_integer(),\n",
      "  match = col_character(),\n",
      "  searchTerm = col_character(),\n",
      "  drugName = col_character(),\n",
      "  geneID = col_integer(),\n",
      "  geneName = col_character(),\n",
      "  longGeneName = col_character(),\n",
      "  interaction = col_character()\n",
      ")\n",
      "Parsed with column specification:\n",
      "cols(\n",
      "  .default = col_double(),\n",
      "  `Probe Set ID` = col_character()\n",
      ")\n",
      "See spec(...) for full column specifications.\n",
      "Parsed with column specification:\n",
      "cols(\n",
      "  `Probe Set ID` = col_character(),\n",
      "  `Gene Symbol` = col_character(),\n",
      "  `mRNA Accession` = col_character(),\n",
      "  `mRNA  Source` = col_character(),\n",
      "  `mRna - Description` = col_character(),\n",
      "  `mRNA - xhyb` = col_character(),\n",
      "  `GO Biological Process ID` = col_character(),\n",
      "  `GO Biological Process Term` = col_character(),\n",
      "  `GO Cellular Component ID` = col_character(),\n",
      "  `GO Cellular Component Term` = col_character(),\n",
      "  `GO Molecular Function ID` = col_character(),\n",
      "  `GO Molecular Function Term` = col_character(),\n",
      "  `Pathway Source` = col_character(),\n",
      "  `Pathway Name` = col_character()\n",
      ")\n"
     ]
    }
   ],
   "source": [
    "source('floroq_aaa_interaction.R')"
   ]
  },
  {
   "cell_type": "code",
   "execution_count": 4,
   "metadata": {
    "scrolled": true
   },
   "outputs": [
    {
     "data": {
      "text/html": [
       "<table>\n",
       "<thead><tr><th scope=col>searchTerm</th><th scope=col>drugName</th><th scope=col>geneID</th><th scope=col>geneName</th><th scope=col>longGeneName</th><th scope=col>interaction</th></tr></thead>\n",
       "<tbody>\n",
       "\t<tr><td>DB04576                                  </td><td>FLEROXACIN                               </td><td>7153                                     </td><td>TOP2A                                    </td><td>DNA TOPOISOMERASE II ALPHA               </td><td>[u'inhibitor']                           </td></tr>\n",
       "\t<tr><td>DB04576                                  </td><td>FLEROXACIN                               </td><td>7155                                     </td><td>TOP2B                                    </td><td>DNA TOPOISOMERASE II BETA                </td><td>[u'inhibitor']                           </td></tr>\n",
       "\t<tr><td>DB01165                                  </td><td>OFLOXACIN                                </td><td>7153                                     </td><td>TOP2A                                    </td><td>DNA TOPOISOMERASE II ALPHA               </td><td>[u'inhibitor']                           </td></tr>\n",
       "\t<tr><td>DB01165                                  </td><td>OFLOXACIN                                </td><td>6539                                     </td><td>SLC6A12                                  </td><td>SOLUTE CARRIER FAMILY 6 MEMBER 12        </td><td>[u'inhibitor']                           </td></tr>\n",
       "\t<tr><td>DB01165                                  </td><td>OFLOXACIN                                </td><td>2936                                     </td><td>GSR                                      </td><td>GLUTATHIONE-DISULFIDE REDUCTASE          </td><td>[]                                       </td></tr>\n",
       "\t<tr><td>DB01165                                  </td><td>OFLOXACIN                                </td><td>4363                                     </td><td>ABCC1                                    </td><td>ATP BINDING CASSETTE SUBFAMILY C MEMBER 1</td><td>[]                                       </td></tr>\n",
       "\t<tr><td>DB01165                                  </td><td>OFLOXACIN                                </td><td>3558                                     </td><td>IL2                                      </td><td>INTERLEUKIN 2                            </td><td>[]                                       </td></tr>\n",
       "\t<tr><td>DB01165                                  </td><td>OFLOXACIN                                </td><td>3553                                     </td><td>IL1B                                     </td><td>INTERLEUKIN 1 BETA                       </td><td>[]                                       </td></tr>\n",
       "\t<tr><td>DB01165                                  </td><td>OFLOXACIN                                </td><td>6529                                     </td><td>SLC6A1                                   </td><td>SOLUTE CARRIER FAMILY 6 MEMBER 1         </td><td>[u'inhibitor']                           </td></tr>\n",
       "\t<tr><td>DB00978                                  </td><td>LOMEFLOXACIN                             </td><td>7153                                     </td><td>TOP2A                                    </td><td>DNA TOPOISOMERASE II ALPHA               </td><td>[u'inhibitor']                           </td></tr>\n",
       "</tbody>\n",
       "</table>\n"
      ],
      "text/latex": [
       "\\begin{tabular}{r|llllll}\n",
       " searchTerm & drugName & geneID & geneName & longGeneName & interaction\\\\\n",
       "\\hline\n",
       "\t DB04576                                   & FLEROXACIN                                & 7153                                      & TOP2A                                     & DNA TOPOISOMERASE II ALPHA                & {[}u'inhibitor'{]}                       \\\\\n",
       "\t DB04576                                   & FLEROXACIN                                & 7155                                      & TOP2B                                     & DNA TOPOISOMERASE II BETA                 & {[}u'inhibitor'{]}                       \\\\\n",
       "\t DB01165                                   & OFLOXACIN                                 & 7153                                      & TOP2A                                     & DNA TOPOISOMERASE II ALPHA                & {[}u'inhibitor'{]}                       \\\\\n",
       "\t DB01165                                   & OFLOXACIN                                 & 6539                                      & SLC6A12                                   & SOLUTE CARRIER FAMILY 6 MEMBER 12         & {[}u'inhibitor'{]}                       \\\\\n",
       "\t DB01165                                   & OFLOXACIN                                 & 2936                                      & GSR                                       & GLUTATHIONE-DISULFIDE REDUCTASE           & {[}{]}                                   \\\\\n",
       "\t DB01165                                   & OFLOXACIN                                 & 4363                                      & ABCC1                                     & ATP BINDING CASSETTE SUBFAMILY C MEMBER 1 & {[}{]}                                   \\\\\n",
       "\t DB01165                                   & OFLOXACIN                                 & 3558                                      & IL2                                       & INTERLEUKIN 2                             & {[}{]}                                   \\\\\n",
       "\t DB01165                                   & OFLOXACIN                                 & 3553                                      & IL1B                                      & INTERLEUKIN 1 BETA                        & {[}{]}                                   \\\\\n",
       "\t DB01165                                   & OFLOXACIN                                 & 6529                                      & SLC6A1                                    & SOLUTE CARRIER FAMILY 6 MEMBER 1          & {[}u'inhibitor'{]}                       \\\\\n",
       "\t DB00978                                   & LOMEFLOXACIN                              & 7153                                      & TOP2A                                     & DNA TOPOISOMERASE II ALPHA                & {[}u'inhibitor'{]}                       \\\\\n",
       "\\end{tabular}\n"
      ],
      "text/markdown": [
       "\n",
       "searchTerm | drugName | geneID | geneName | longGeneName | interaction | \n",
       "|---|---|---|---|---|---|---|---|---|---|\n",
       "| DB04576                                   | FLEROXACIN                                | 7153                                      | TOP2A                                     | DNA TOPOISOMERASE II ALPHA                | [u'inhibitor']                            | \n",
       "| DB04576                                   | FLEROXACIN                                | 7155                                      | TOP2B                                     | DNA TOPOISOMERASE II BETA                 | [u'inhibitor']                            | \n",
       "| DB01165                                   | OFLOXACIN                                 | 7153                                      | TOP2A                                     | DNA TOPOISOMERASE II ALPHA                | [u'inhibitor']                            | \n",
       "| DB01165                                   | OFLOXACIN                                 | 6539                                      | SLC6A12                                   | SOLUTE CARRIER FAMILY 6 MEMBER 12         | [u'inhibitor']                            | \n",
       "| DB01165                                   | OFLOXACIN                                 | 2936                                      | GSR                                       | GLUTATHIONE-DISULFIDE REDUCTASE           | []                                        | \n",
       "| DB01165                                   | OFLOXACIN                                 | 4363                                      | ABCC1                                     | ATP BINDING CASSETTE SUBFAMILY C MEMBER 1 | []                                        | \n",
       "| DB01165                                   | OFLOXACIN                                 | 3558                                      | IL2                                       | INTERLEUKIN 2                             | []                                        | \n",
       "| DB01165                                   | OFLOXACIN                                 | 3553                                      | IL1B                                      | INTERLEUKIN 1 BETA                        | []                                        | \n",
       "| DB01165                                   | OFLOXACIN                                 | 6529                                      | SLC6A1                                    | SOLUTE CARRIER FAMILY 6 MEMBER 1          | [u'inhibitor']                            | \n",
       "| DB00978                                   | LOMEFLOXACIN                              | 7153                                      | TOP2A                                     | DNA TOPOISOMERASE II ALPHA                | [u'inhibitor']                            | \n",
       "\n",
       "\n"
      ],
      "text/plain": [
       "   searchTerm drugName     geneID geneName\n",
       "1  DB04576    FLEROXACIN   7153   TOP2A   \n",
       "2  DB04576    FLEROXACIN   7155   TOP2B   \n",
       "3  DB01165    OFLOXACIN    7153   TOP2A   \n",
       "4  DB01165    OFLOXACIN    6539   SLC6A12 \n",
       "5  DB01165    OFLOXACIN    2936   GSR     \n",
       "6  DB01165    OFLOXACIN    4363   ABCC1   \n",
       "7  DB01165    OFLOXACIN    3558   IL2     \n",
       "8  DB01165    OFLOXACIN    3553   IL1B    \n",
       "9  DB01165    OFLOXACIN    6529   SLC6A1  \n",
       "10 DB00978    LOMEFLOXACIN 7153   TOP2A   \n",
       "   longGeneName                              interaction   \n",
       "1  DNA TOPOISOMERASE II ALPHA                [u'inhibitor']\n",
       "2  DNA TOPOISOMERASE II BETA                 [u'inhibitor']\n",
       "3  DNA TOPOISOMERASE II ALPHA                [u'inhibitor']\n",
       "4  SOLUTE CARRIER FAMILY 6 MEMBER 12         [u'inhibitor']\n",
       "5  GLUTATHIONE-DISULFIDE REDUCTASE           []            \n",
       "6  ATP BINDING CASSETTE SUBFAMILY C MEMBER 1 []            \n",
       "7  INTERLEUKIN 2                             []            \n",
       "8  INTERLEUKIN 1 BETA                        []            \n",
       "9  SOLUTE CARRIER FAMILY 6 MEMBER 1          [u'inhibitor']\n",
       "10 DNA TOPOISOMERASE II ALPHA                [u'inhibitor']"
      ]
     },
     "metadata": {},
     "output_type": "display_data"
    }
   ],
   "source": [
    "drug_interactions  %>% \n",
    "    head(10)\n",
    "\n",
    "floroq_interaction_genes <- unique(drug_interactions$geneName)\n",
    "beta_interaction_genes <- unique(beta_lactams$geneName)"
   ]
  },
  {
   "cell_type": "code",
   "execution_count": 5,
   "metadata": {},
   "outputs": [
    {
     "data": {},
     "metadata": {},
     "output_type": "display_data"
    },
    {
     "data": {
      "image/png": "[encoded data removed]",
      "text/plain": [
       "plot without title"
      ]
     },
     "metadata": {},
     "output_type": "display_data"
    }
   ],
   "source": [
    "options(repr.plot.width=4, repr.plot.height=3)\n",
    "\n",
    "df_long  %>% \n",
    "    filter(geneName == 'TOP2A')  %>%\n",
    "    ggplot(aes(x = status, y = value, col = status)) +\n",
    "    geom_boxplot() + \n",
    "    facet_wrap(~tissue) + \n",
    "    labs(title = 'TOP2A expr in 3AAA vs DAA',\n",
    "         x = '', \n",
    "         y = 'Expr-value (log2)')"
   ]
  },
  {
   "cell_type": "code",
   "execution_count": 80,
   "metadata": {},
   "outputs": [],
   "source": [
    "library(ggridges)"
   ]
  },
  {
   "cell_type": "markdown",
   "metadata": {},
   "source": [
    "Run differential expression for the floroquinolone and betalactam data-sets. "
   ]
  },
  {
   "cell_type": "code",
   "execution_count": 73,
   "metadata": {},
   "outputs": [],
   "source": [
    "t.floroq_med <- df_long %>%\n",
    "    filter(tissue == 'med')  %>% \n",
    "    filter(geneName %in% unique(drug_interactions$geneName))  %>% \n",
    "    group_by(geneName) %>%\n",
    "    do(tidy(t.test(.$value ~ .$status)))  %>%\n",
    "    ungroup()  %>% \n",
    "    mutate(fdr = p.adjust(p.value, method = \"fdr\"))\n",
    "\n",
    "t.beta_med <- df_long %>%\n",
    "    filter(tissue == 'med')  %>% \n",
    "    filter(geneName %in% unique(beta_interaction_genes))  %>% \n",
    "    group_by(geneName) %>%\n",
    "    do(tidy(t.test(.$value ~ .$status)))  %>% \n",
    "    ungroup()  %>% \n",
    "    mutate(fdr = p.adjust(p.value, method = \"fdr\"))\n",
    "\n",
    "\n"
   ]
  },
  {
   "cell_type": "code",
   "execution_count": 81,
   "metadata": {},
   "outputs": [],
   "source": [
    "p_floro <- df_long  %>% \n",
    "    filter(geneName %in% floroq_interaction_genes, tissue == 'med')  %>%\n",
    "    left_join(t.floroq_med, by = 'geneName')  %>%\n",
    "    ggplot(aes(x=value, y = geneName, fill = status)) +\n",
    "    geom_density_ridges(aes(alpha = fdr < 0.05)) +\n",
    "    theme_pubclean() +\n",
    "    labs(\n",
    "        subtitle = 'Floroquinolones', \n",
    "         y ='',\n",
    "         x = 'Log2-expression value')#caption = 'Drug-gene-interactions are retrieved from DGIdb') +\n",
    "   \n",
    "p_beta <- df_long  %>% \n",
    "    filter(geneName %in% beta_interaction_genes, tissue == 'med')  %>%\n",
    "    left_join(t.beta_med, by = 'geneName')  %>%\n",
    "    ggplot(aes(x=value, y = geneName, fill = status)) +\n",
    "    geom_density_ridges(aes(alpha = fdr < 0.05)) +\n",
    "    theme_pubclean() +\n",
    "    labs(subtitle = 'Beta-lactams', \n",
    "         y ='',\n",
    "         x = 'Log2-expression value',\n",
    "         caption = 'Drug-gene-interactions are retrieved from DGIdb')"
   ]
  },
  {
   "cell_type": "code",
   "execution_count": 82,
   "metadata": {},
   "outputs": [
    {
     "name": "stderr",
     "output_type": "stream",
     "text": [
      "Warning message:\n",
      "\"Using alpha for a discrete variable is not advised.\"Picking joint bandwidth of 0.208\n",
      "Warning message:\n",
      "\"Using alpha for a discrete variable is not advised.\"Picking joint bandwidth of 0.208\n",
      "Warning message:\n",
      "\"Using alpha for a discrete variable is not advised.\"Picking joint bandwidth of 0.21\n"
     ]
    },
    {
     "data": {},
     "metadata": {},
     "output_type": "display_data"
    },
    {
     "data": {
      "image/png": "[encoded data removed]",
      "text/plain": [
       "plot without title"
      ]
     },
     "metadata": {},
     "output_type": "display_data"
    }
   ],
   "source": [
    "options(repr.plot.width=8, repr.plot.height=10)\n",
    "floro_beta_dgidb <- ggarrange(p_floro, p_beta, align = 'hv', legend = 'right', common.legend = TRUE)\n",
    "annotate_figure(floro_beta_dgidb, \n",
    "                top = 'Differential expression of mRNAs associated with antiobiotic treatment')"
   ]
  },
  {
   "cell_type": "code",
   "execution_count": 72,
   "metadata": {},
   "outputs": [],
   "source": [
    "p1_med <- t.floroq_med  %>% \n",
    "    ungroup()  %>% \n",
    "    mutate(geneName = fct_reorder(geneName, fdr))  %>% \n",
    "    ggplot(aes(x = geneName, y = estimate, col = geneName)) +\n",
    "        geom_errorbar(aes(x=geneName, ymin=conf.low, ymax=conf.high, alpha = (1-fdr) ))+\n",
    "    coord_flip() +    \n",
    "    geom_hline(yintercept = 0.00, linetype ='dotted',\n",
    "    color = \"black\", size=0.5) +\n",
    "    guides(col = FALSE, alpha = FALSE) +\n",
    "    annotate(geom=\"text\", x=17, y=-1.5, label=\"More in DA\",\n",
    "              color=\"black\", size = 2.5)+\n",
    "        annotate(geom=\"text\", x=17, y=1.5, label=\"More in 3A\",\n",
    "              color=\"black\", size = 2.5) +\n",
    "    labs(title = 'Difference in mean-expr',\n",
    "         y = 'Estimate (log2)',\n",
    "         x = '') \n",
    "\n",
    "p2_med <- t.floroq_med  %>% \n",
    "    ungroup()  %>% \n",
    "    mutate(geneName = fct_reorder(geneName, fdr))  %>% \n",
    "    ggplot(aes(x = geneName, y = fdr, fill = geneName)) + \n",
    "    geom_col() + \n",
    "    coord_flip() + \n",
    "    geom_hline(yintercept = 0.05, linetype ='dotted',\n",
    "                color = \"black\", size=0.5) +\n",
    "    guides(fill = FALSE) + \n",
    "    labs(title = 'FDR q-value',\n",
    "         y = 'q-value')"
   ]
  },
  {
   "cell_type": "code",
   "execution_count": 83,
   "metadata": {},
   "outputs": [
    {
     "data": {},
     "metadata": {},
     "output_type": "display_data"
    },
    {
     "data": {
      "image/png": "[encoded data removed]",
      "text/plain": [
       "plot without title"
      ]
     },
     "metadata": {},
     "output_type": "display_data"
    }
   ],
   "source": [
    "options(repr.plot.width=6, repr.plot.height=3)\n",
    "ggpubr::ggarrange(p2_med,p1_med)\n"
   ]
  },
  {
   "cell_type": "markdown",
   "metadata": {},
   "source": [
    "## Gene Set Enrichment analysis for floroq-drug-gene interactions"
   ]
  },
  {
   "cell_type": "markdown",
   "metadata": {},
   "source": [
    "First, the constructed ranked gene list by t.-test estimate is gathered from the floroq_aaa_interaction.R source file. "
   ]
  },
  {
   "cell_type": "code",
   "execution_count": 87,
   "metadata": {},
   "outputs": [
    {
     "data": {
      "text/html": [
       "1"
      ],
      "text/latex": [
       "1"
      ],
      "text/markdown": [
       "1"
      ],
      "text/plain": [
       "[1] 1"
      ]
     },
     "metadata": {},
     "output_type": "display_data"
    }
   ],
   "source": [
    "which(t.ranked_diff_genes_med$geneName == 'MMP12')   "
   ]
  },
  {
   "cell_type": "markdown",
   "metadata": {},
   "source": [
    "Define function that takes a rankedList of genes and a geneSet and returns the position of the genes in the gene set in the rankedList"
   ]
  },
  {
   "cell_type": "code",
   "execution_count": 88,
   "metadata": {},
   "outputs": [],
   "source": [
    "f.gsea <- function(rankedList, geneSet) {\n",
    "    a = vector()\n",
    "    for(key in geneSet){\n",
    "        a <- append(a, which(rankedList == key))\n",
    "    }\n",
    "    gsea_df <- as.data.frame(cbind(a, geneSet))  %>% \n",
    "    mutate(a = as.numeric(as.character(a)))\n",
    "    return(gsea_df)\n",
    "}"
   ]
  },
  {
   "cell_type": "code",
   "execution_count": 89,
   "metadata": {},
   "outputs": [
    {
     "name": "stderr",
     "output_type": "stream",
     "text": [
      "Warning message in cbind(a, geneSet):\n",
      "\"number of rows of result is not a multiple of vector length (arg 1)\""
     ]
    }
   ],
   "source": [
    "floro_a <- f.gsea(t.ranked_diff_genes_med$geneName, unique(drug_interactions$geneName))\n",
    "beta_a <- f.gsea(t.ranked_diff_genes_med$geneName, unique((beta_interaction_genes)))"
   ]
  },
  {
   "cell_type": "markdown",
   "metadata": {},
   "source": [
    "## Floroq"
   ]
  },
  {
   "cell_type": "code",
   "execution_count": 91,
   "metadata": {},
   "outputs": [],
   "source": [
    "p_gsea1_floro <- floro_a  %>% \n",
    "    ggplot(aes(x = a, y = 1)) +\n",
    "    geom_point(size = 0.5)+\n",
    "    geom_errorbar(aes(x = a, ymin = 0.5, ymax = 1.5)) +\n",
    "    xlim(1,dim(t.ranked_diff_genes_med)[1])+\n",
    "    theme_bw() + \n",
    "    labs( \n",
    "         x = 'Position in the Ranked List of Genes',\n",
    "         y = '')+\n",
    "    remove_y_axes\n",
    "\n",
    "Ns <- length(unique(drug_interactions$geneName))\n",
    "N <- dim(t.ranked_diff_genes_med)[1]\n",
    "Xmi <- -sqrt(Ns/(N-Ns))\n",
    "Xpl <- sqrt((N-Ns)/Ns)\n",
    "\n",
    "# Calculate enrichment score. \n",
    "# All places where gene is not in gene set, add (Xmi)\n",
    "# for all where gene is in gene set add Xpl. \n",
    "\n",
    "enrichment_score <- rep(Xmi, dim(t.ranked_diff_genes_med)[1])\n",
    "for(i in floro_a$a){\n",
    "    enrichment_score[i] <- Xpl\n",
    "}\n",
    "\n",
    "# compute the cumulative sum\n",
    "enrich_cum_score <- cumsum(enrichment_score)\n",
    "df_gsea <- as.data.frame(cbind(enrich_cum_score, 1:length(enrich_cum_score)))\n",
    "\n",
    "p_gsea2_floro <-  df_gsea  %>% \n",
    "    ggplot(aes(x=V2, y=enrich_cum_score)) +  \n",
    "    geom_line(col = 'black') +\n",
    "    ylim(-300,300) +\n",
    "    geom_hline(yintercept = 0.00, linetype ='dotted',\n",
    "                color = \"blue\", size=0.5) +\n",
    "    xlim(1,dim(t.ranked_diff_genes_med)[1])+\n",
    "    theme_bw() + \n",
    "    labs(title = 'Floroquinolone geneSet from DGIdb (n=17)', \n",
    "         x = 'Position in the Ranked List of Genes',\n",
    "         y = 'Enrichment score (ES)') +\n",
    "    remove_x_axes +\n",
    "    remove_y_axes\n",
    "\n"
   ]
  },
  {
   "cell_type": "markdown",
   "metadata": {},
   "source": [
    "## Beta lactams"
   ]
  },
  {
   "cell_type": "code",
   "execution_count": 92,
   "metadata": {},
   "outputs": [],
   "source": [
    "p_gsea1_beta <- beta_a  %>% \n",
    "    ggplot(aes(x = a, y = 1)) +\n",
    "    geom_point(size = 0.5)+\n",
    "    geom_errorbar(aes(x = a, ymin = 0.5, ymax = 1.5)) +\n",
    "    xlim(1,dim(t.ranked_diff_genes_med)[1])+\n",
    "    theme_bw() + \n",
    "    labs( \n",
    "         x = 'Position in the Ranked List of Genes',\n",
    "         y = '')+\n",
    "    remove_y_axes\n",
    "\n",
    "Ns <- length(unique(beta_interaction_genes)) -1\n",
    "N <- dim(t.ranked_diff_genes_med)[1]\n",
    "Xmi <- -sqrt(Ns/(N-Ns))\n",
    "Xpl <- sqrt((N-Ns)/Ns)\n",
    "\n",
    "# Calculate enrichment score. \n",
    "# All places where gene is not in gene set, add (Xmi)\n",
    "# for all where gene is in gene set add Xpl. \n",
    "\n",
    "enrichment_score <- rep(Xmi, dim(t.ranked_diff_genes_med)[1])\n",
    "for(i in beta_a$a){\n",
    "    enrichment_score[i] <- Xpl\n",
    "}\n",
    "\n",
    "# compute the cumulative sum\n",
    "enrich_cum_score <- cumsum(enrichment_score)\n",
    "df_gsea <- as.data.frame(cbind(enrich_cum_score, 1:length(enrich_cum_score)))\n",
    "\n",
    "p_gsea2_beta <-  df_gsea  %>% \n",
    "    ggplot(aes(x=V2, y=enrich_cum_score)) +  \n",
    "    geom_line(col = 'black') +\n",
    "    ylim(-300,300) +\n",
    "    geom_hline(yintercept = 0.00, linetype ='dotted',\n",
    "                color = \"blue\", size=0.5) +\n",
    "    xlim(1,dim(t.ranked_diff_genes_med)[1])+\n",
    "    theme_bw() + \n",
    "    labs(title = 'Beta-lactams geneSet from DGIdb (n=56)', \n",
    "         x = 'Position in the Ranked List of Genes',\n",
    "         y = 'Enrichment score (ES)') +\n",
    "    remove_x_axes +\n",
    "    remove_y_axes\n"
   ]
  },
  {
   "cell_type": "code",
   "execution_count": 93,
   "metadata": {},
   "outputs": [],
   "source": [
    "g2 <- ggarrange(p_gsea2_floro, p_gsea1_floro, nrow = 2)\n",
    "g1 <- ggarrange(p_gsea2_beta, p_gsea1_beta, nrow = 2)"
   ]
  },
  {
   "cell_type": "code",
   "execution_count": 94,
   "metadata": {},
   "outputs": [
    {
     "data": {},
     "metadata": {},
     "output_type": "display_data"
    },
    {
     "data": {
      "image/png": "[encoded data removed]",
      "text/plain": [
       "plot without title"
      ]
     },
     "metadata": {},
     "output_type": "display_data"
    }
   ],
   "source": [
    "options(repr.plot.width=8, repr.plot.height=4)\n",
    "ggarrange(g2,g1)"
   ]
  },
  {
   "cell_type": "code",
   "execution_count": 97,
   "metadata": {},
   "outputs": [],
   "source": [
    "library(gage)"
   ]
  },
  {
   "cell_type": "code",
   "execution_count": 160,
   "metadata": {},
   "outputs": [
    {
     "data": {
      "text/plain": [
       "\n",
       "\tOne Sample t-test\n",
       "\n",
       "data:  beta_a$a\n",
       "t = 9.2429, df = 56, p-value = 3.66e-13\n",
       "alternative hypothesis: true mean is greater than 0\n",
       "95 percent confidence interval:\n",
       " 7607.309      Inf\n",
       "sample estimates:\n",
       "mean of x \n",
       " 9287.982 \n"
      ]
     },
     "metadata": {},
     "output_type": "display_data"
    }
   ],
   "source": [
    "t.test(beta_a$a, alternative ='greater')"
   ]
  },
  {
   "cell_type": "code",
   "execution_count": 178,
   "metadata": {},
   "outputs": [
    {
     "data": {
      "text/html": [
       "0.0120333910122695"
      ],
      "text/latex": [
       "0.0120333910122695"
      ],
      "text/markdown": [
       "0.0120333910122695"
      ],
      "text/plain": [
       "[1] 0.01203339"
      ]
     },
     "metadata": {},
     "output_type": "display_data"
    }
   ],
   "source": [
    "t.beta_med$p.value  %>% psych::geometric.mean()"
   ]
  },
  {
   "cell_type": "code",
   "execution_count": 177,
   "metadata": {},
   "outputs": [],
   "source": [
    "t.beta_med <- df_long %>%\n",
    "    filter(tissue == 'med')  %>% \n",
    "    filter(geneName %in% unique(beta_interaction_genes))  %>% \n",
    "    group_by(geneName) %>%\n",
    "    do(tidy(t.test(.$value ~ .$status, alternative = 'two.sided', var.equal = FALSE)))  %>% \n",
    "    ungroup()  %>% \n",
    "    mutate(fdr = p.adjust(p.value, method = \"fdr\"))\n"
   ]
  },
  {
   "cell_type": "code",
   "execution_count": 192,
   "metadata": {},
   "outputs": [
    {
     "name": "stderr",
     "output_type": "stream",
     "text": [
      "Warning message in ks.test(beta_a$a, y = \"pbinom\", size = dim(df)[1], prob = 0.5):\n",
      "\"ties should not be present for the Kolmogorov-Smirnov test\""
     ]
    },
    {
     "data": {
      "text/plain": [
       "\n",
       "\tOne-sample Kolmogorov-Smirnov test\n",
       "\n",
       "data:  beta_a$a\n",
       "D = 0.71022, p-value < 2.2e-16\n",
       "alternative hypothesis: two-sided\n"
      ]
     },
     "metadata": {},
     "output_type": "display_data"
    }
   ],
   "source": [
    "ks.test(beta_a$a, y = 'pbinom', size = dim(df)[1], prob = 0.5)\n"
   ]
  },
  {
   "cell_type": "code",
   "execution_count": 186,
   "metadata": {},
   "outputs": [],
   "source": [
    "?ks.test()"
   ]
  },
  {
   "cell_type": "code",
   "execution_count": 105,
   "metadata": {},
   "outputs": [],
   "source": [
    "df_gs <- df  %>% select(geneName, matches('med'))  %>% as.data.frame()\n",
    "rownames(df_gs) <- df$geneName\n",
    "df_gs[,1] <- NULL"
   ]
  },
  {
   "cell_type": "code",
   "execution_count": 181,
   "metadata": {},
   "outputs": [
    {
     "data": {
      "text/html": [
       "<dl>\n",
       "\t<dt>$greater</dt>\n",
       "\t\t<dd><table>\n",
       "<thead><tr><th scope=col>p.geomean</th><th scope=col>stat.mean</th><th scope=col>p.val</th><th scope=col>q.val</th><th scope=col>set.size</th><th scope=col>exp1</th></tr></thead>\n",
       "<tbody>\n",
       "\t<tr><td>0.00775719</td><td>2.4584304 </td><td>0.00775719</td><td>0.01551438</td><td>56        </td><td>0.00775719</td></tr>\n",
       "\t<tr><td>0.17193333</td><td>0.9616638 </td><td>0.17193333</td><td>0.17193333</td><td>17        </td><td>0.17193333</td></tr>\n",
       "</tbody>\n",
       "</table>\n",
       "</dd>\n",
       "\t<dt>$less</dt>\n",
       "\t\t<dd><table>\n",
       "<thead><tr><th scope=col>p.geomean</th><th scope=col>stat.mean</th><th scope=col>p.val</th><th scope=col>q.val</th><th scope=col>set.size</th><th scope=col>exp1</th></tr></thead>\n",
       "<tbody>\n",
       "\t<tr><td>0.9922428</td><td>2.4584304</td><td>0.9922428</td><td>0.9922428</td><td>56       </td><td>0.9922428</td></tr>\n",
       "\t<tr><td>0.8280667</td><td>0.9616638</td><td>0.8280667</td><td>0.9922428</td><td>17       </td><td>0.8280667</td></tr>\n",
       "</tbody>\n",
       "</table>\n",
       "</dd>\n",
       "\t<dt>$stats</dt>\n",
       "\t\t<dd><table>\n",
       "<thead><tr><th scope=col>stat.mean</th><th scope=col>exp1</th></tr></thead>\n",
       "<tbody>\n",
       "\t<tr><td>2.4584304</td><td>2.4584304</td></tr>\n",
       "\t<tr><td>0.9616638</td><td>0.9616638</td></tr>\n",
       "</tbody>\n",
       "</table>\n",
       "</dd>\n",
       "</dl>\n"
      ],
      "text/latex": [
       "\\begin{description}\n",
       "\\item[\\$greater] \\begin{tabular}{llllll}\n",
       " p.geomean & stat.mean & p.val & q.val & set.size & exp1\\\\\n",
       "\\hline\n",
       "\t 0.00775719 & 2.4584304  & 0.00775719 & 0.01551438 & 56         & 0.00775719\\\\\n",
       "\t 0.17193333 & 0.9616638  & 0.17193333 & 0.17193333 & 17         & 0.17193333\\\\\n",
       "\\end{tabular}\n",
       "\n",
       "\\item[\\$less] \\begin{tabular}{llllll}\n",
       " p.geomean & stat.mean & p.val & q.val & set.size & exp1\\\\\n",
       "\\hline\n",
       "\t 0.9922428 & 2.4584304 & 0.9922428 & 0.9922428 & 56        & 0.9922428\\\\\n",
       "\t 0.8280667 & 0.9616638 & 0.8280667 & 0.9922428 & 17        & 0.8280667\\\\\n",
       "\\end{tabular}\n",
       "\n",
       "\\item[\\$stats] \\begin{tabular}{ll}\n",
       " stat.mean & exp1\\\\\n",
       "\\hline\n",
       "\t 2.4584304 & 2.4584304\\\\\n",
       "\t 0.9616638 & 0.9616638\\\\\n",
       "\\end{tabular}\n",
       "\n",
       "\\end{description}\n"
      ],
      "text/markdown": [
       "$greater\n",
       ":   \n",
       "p.geomean | stat.mean | p.val | q.val | set.size | exp1 | \n",
       "|---|---|\n",
       "| 0.00775719 | 2.4584304  | 0.00775719 | 0.01551438 | 56         | 0.00775719 | \n",
       "| 0.17193333 | 0.9616638  | 0.17193333 | 0.17193333 | 17         | 0.17193333 | \n",
       "\n",
       "\n",
       "\n",
       "$less\n",
       ":   \n",
       "p.geomean | stat.mean | p.val | q.val | set.size | exp1 | \n",
       "|---|---|\n",
       "| 0.9922428 | 2.4584304 | 0.9922428 | 0.9922428 | 56        | 0.9922428 | \n",
       "| 0.8280667 | 0.9616638 | 0.8280667 | 0.9922428 | 17        | 0.8280667 | \n",
       "\n",
       "\n",
       "\n",
       "$stats\n",
       ":   \n",
       "stat.mean | exp1 | \n",
       "|---|---|\n",
       "| 2.4584304 | 2.4584304 | \n",
       "| 0.9616638 | 0.9616638 | \n",
       "\n",
       "\n",
       "\n",
       "\n",
       "\n"
      ],
      "text/plain": [
       "$greater\n",
       "      p.geomean stat.mean      p.val      q.val set.size       exp1\n",
       "[1,] 0.00775719 2.4584304 0.00775719 0.01551438       56 0.00775719\n",
       "[2,] 0.17193333 0.9616638 0.17193333 0.17193333       17 0.17193333\n",
       "\n",
       "$less\n",
       "     p.geomean stat.mean     p.val     q.val set.size      exp1\n",
       "[1,] 0.9922428 2.4584304 0.9922428 0.9922428       56 0.9922428\n",
       "[2,] 0.8280667 0.9616638 0.8280667 0.9922428       17 0.8280667\n",
       "\n",
       "$stats\n",
       "     stat.mean      exp1\n",
       "[1,] 2.4584304 2.4584304\n",
       "[2,] 0.9616638 0.9616638\n"
      ]
     },
     "metadata": {},
     "output_type": "display_data"
    }
   ],
   "source": [
    "gage(df_gs, gsets, ref = ref, samp = samp, compare = 'as.group', rank.test = TRUE)"
   ]
  },
  {
   "cell_type": "code",
   "execution_count": 120,
   "metadata": {},
   "outputs": [],
   "source": [
    "gsets <- list(unique(beta_interaction_genes), unique(drug_interactions$geneName))"
   ]
  },
  {
   "cell_type": "code",
   "execution_count": 125,
   "metadata": {},
   "outputs": [
    {
     "data": {
      "text/html": [
       "<ol class=list-inline>\n",
       "\t<li>'3A003_TH_med'</li>\n",
       "\t<li>'3A004_TH_med'</li>\n",
       "\t<li>'3A005_TH_med'</li>\n",
       "\t<li>'3A012_TH_med'</li>\n",
       "\t<li>'3A013_TH_med'</li>\n",
       "\t<li>'3A027_TH_med'</li>\n",
       "\t<li>'3A031_TH_med'</li>\n",
       "\t<li>'3A042_TH_med'</li>\n",
       "\t<li>'3A057_TH_med'</li>\n",
       "\t<li>'3A059_TH_med'</li>\n",
       "\t<li>'DAA03_TH_med'</li>\n",
       "\t<li>'DAA05_TH_med'</li>\n",
       "\t<li>'DAA10_TH_med'</li>\n",
       "\t<li>'DAA12_TH_med'</li>\n",
       "\t<li>'DAA13_TH_med'</li>\n",
       "\t<li>'DAA15_TH_med'</li>\n",
       "\t<li>'DAA17_TH_med'</li>\n",
       "\t<li>'DAA20_TH_med'</li>\n",
       "\t<li>'DAA24_TH_med'</li>\n",
       "\t<li>'DAA26_TH_med'</li>\n",
       "\t<li>'DAA27_TH_med'</li>\n",
       "</ol>\n"
      ],
      "text/latex": [
       "\\begin{enumerate*}\n",
       "\\item '3A003\\_TH\\_med'\n",
       "\\item '3A004\\_TH\\_med'\n",
       "\\item '3A005\\_TH\\_med'\n",
       "\\item '3A012\\_TH\\_med'\n",
       "\\item '3A013\\_TH\\_med'\n",
       "\\item '3A027\\_TH\\_med'\n",
       "\\item '3A031\\_TH\\_med'\n",
       "\\item '3A042\\_TH\\_med'\n",
       "\\item '3A057\\_TH\\_med'\n",
       "\\item '3A059\\_TH\\_med'\n",
       "\\item 'DAA03\\_TH\\_med'\n",
       "\\item 'DAA05\\_TH\\_med'\n",
       "\\item 'DAA10\\_TH\\_med'\n",
       "\\item 'DAA12\\_TH\\_med'\n",
       "\\item 'DAA13\\_TH\\_med'\n",
       "\\item 'DAA15\\_TH\\_med'\n",
       "\\item 'DAA17\\_TH\\_med'\n",
       "\\item 'DAA20\\_TH\\_med'\n",
       "\\item 'DAA24\\_TH\\_med'\n",
       "\\item 'DAA26\\_TH\\_med'\n",
       "\\item 'DAA27\\_TH\\_med'\n",
       "\\end{enumerate*}\n"
      ],
      "text/markdown": [
       "1. '3A003_TH_med'\n",
       "2. '3A004_TH_med'\n",
       "3. '3A005_TH_med'\n",
       "4. '3A012_TH_med'\n",
       "5. '3A013_TH_med'\n",
       "6. '3A027_TH_med'\n",
       "7. '3A031_TH_med'\n",
       "8. '3A042_TH_med'\n",
       "9. '3A057_TH_med'\n",
       "10. '3A059_TH_med'\n",
       "11. 'DAA03_TH_med'\n",
       "12. 'DAA05_TH_med'\n",
       "13. 'DAA10_TH_med'\n",
       "14. 'DAA12_TH_med'\n",
       "15. 'DAA13_TH_med'\n",
       "16. 'DAA15_TH_med'\n",
       "17. 'DAA17_TH_med'\n",
       "18. 'DAA20_TH_med'\n",
       "19. 'DAA24_TH_med'\n",
       "20. 'DAA26_TH_med'\n",
       "21. 'DAA27_TH_med'\n",
       "\n",
       "\n"
      ],
      "text/plain": [
       " [1] \"3A003_TH_med\" \"3A004_TH_med\" \"3A005_TH_med\" \"3A012_TH_med\" \"3A013_TH_med\"\n",
       " [6] \"3A027_TH_med\" \"3A031_TH_med\" \"3A042_TH_med\" \"3A057_TH_med\" \"3A059_TH_med\"\n",
       "[11] \"DAA03_TH_med\" \"DAA05_TH_med\" \"DAA10_TH_med\" \"DAA12_TH_med\" \"DAA13_TH_med\"\n",
       "[16] \"DAA15_TH_med\" \"DAA17_TH_med\" \"DAA20_TH_med\" \"DAA24_TH_med\" \"DAA26_TH_med\"\n",
       "[21] \"DAA27_TH_med\""
      ]
     },
     "metadata": {},
     "output_type": "display_data"
    }
   ],
   "source": [
    "colnames(df_gs)"
   ]
  },
  {
   "cell_type": "code",
   "execution_count": 134,
   "metadata": {},
   "outputs": [],
   "source": [
    "ref <- grep('DAA', colnames(df_gs))\n",
    "samp <- grep('3A', colnames(df_gs))"
   ]
  },
  {
   "cell_type": "code",
   "execution_count": null,
   "metadata": {},
   "outputs": [],
   "source": []
  }
 ],
 "metadata": {
  "kernelspec": {
   "display_name": "R",
   "language": "R",
   "name": "ir"
  },
  "language_info": {
   "codemirror_mode": "r",
   "file_extension": ".r",
   "mimetype": "text/x-r-source",
   "name": "R",
   "pygments_lexer": "r",
   "version": "3.5.1"
  }
 },
 "nbformat": 4,
 "nbformat_minor": 2
}
