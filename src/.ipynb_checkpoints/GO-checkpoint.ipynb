{
 "cells": [
  {
   "cell_type": "code",
   "execution_count": 1,
   "metadata": {},
   "outputs": [
    {
     "name": "stderr",
     "output_type": "stream",
     "text": [
      "Loading required package: XLConnectJars\n",
      "XLConnect 0.2-15 by Mirai Solutions GmbH [aut],\n",
      "  Martin Studer [cre],\n",
      "  The Apache Software Foundation [ctb, cph] (Apache POI),\n",
      "  Graph Builder [ctb, cph] (Curvesapi Java library)\n",
      "http://www.mirai-solutions.com\n",
      "https://github.com/miraisolutions/xlconnect\n",
      "-- Attaching packages --------------------------------------- tidyverse 1.2.1 --\n",
      "v ggplot2 3.1.0     v purrr   0.2.5\n",
      "v tibble  1.4.2     v dplyr   0.7.8\n",
      "v tidyr   0.8.2     v stringr 1.3.1\n",
      "v readr   1.1.1     v forcats 0.3.0\n",
      "-- Conflicts ------------------------------------------ tidyverse_conflicts() --\n",
      "x dplyr::filter() masks stats::filter()\n",
      "x dplyr::lag()    masks stats::lag()\n",
      "Loading required package: magrittr\n",
      "\n",
      "Attaching package: 'magrittr'\n",
      "\n",
      "The following object is masked from 'package:purrr':\n",
      "\n",
      "    set_names\n",
      "\n",
      "The following object is masked from 'package:tidyr':\n",
      "\n",
      "    extract\n",
      "\n"
     ]
    }
   ],
   "source": [
    "library(XLConnect)\n",
    "library(tidyverse)\n",
    "library(ggpubr)"
   ]
  },
  {
   "cell_type": "code",
   "execution_count": 2,
   "metadata": {},
   "outputs": [],
   "source": [
    "\n",
    "remove_x_axes <- theme(axis.title.x=element_blank(),\n",
    "        axis.text.x=element_blank(),\n",
    "        axis.ticks.x=element_blank())\n",
    "\n",
    "remove_y_axes <- theme(axis.title.y=element_blank(),\n",
    "        axis.text.y=element_blank(),\n",
    "        axis.ticks.y=element_blank())"
   ]
  },
  {
   "cell_type": "code",
   "execution_count": 3,
   "metadata": {},
   "outputs": [],
   "source": [
    "wb <- loadWorkbook('../data/go_top100updown.xlsx')"
   ]
  },
  {
   "cell_type": "code",
   "execution_count": 4,
   "metadata": {},
   "outputs": [],
   "source": [
    "up100process <- readWorksheet(wb, sheet = 1) \n",
    "down100process <- readWorksheet(wb, sheet = 4)\n"
   ]
  },
  {
   "cell_type": "code",
   "execution_count": 5,
   "metadata": {},
   "outputs": [],
   "source": [
    "up100process$type <- 'UP_PROCESS'\n",
    "down100process$type <- 'DOWN_PROCESS'\n"
   ]
  },
  {
   "cell_type": "code",
   "execution_count": 6,
   "metadata": {},
   "outputs": [],
   "source": [
    "process <- rbind(up100process, down100process)\n",
    "molecular <- rbind(up100molecular, down100molecular)\n",
    "cellular <- rbind(up100cellular, down100cellular)"
   ]
  },
  {
   "cell_type": "code",
   "execution_count": 7,
   "metadata": {
    "scrolled": false
   },
   "outputs": [
    {
     "name": "stderr",
     "output_type": "stream",
     "text": [
      "Warning message in if (params$x != 0) {:\n",
      "\"the condition has length > 1 and only the first element will be used\"Warning message in if (params$x != 0) {:\n",
      "\"the condition has length > 1 and only the first element will be used\""
     ]
    },
    {
     "data": {},
     "metadata": {},
     "output_type": "display_data"
    },
    {
     "data": {
      "image/png": "[encoded data removed]",
      "text/plain": [
       "plot without title"
      ]
     },
     "metadata": {},
     "output_type": "display_data"
    }
   ],
   "source": [
    "options(repr.plot.width=7, repr.plot.height=6)\n",
    "process  %>% \n",
    "    mutate(Name = fct_reorder(Name, Combined.score))  %>% \n",
    "    ggplot(aes(x=Combined.score, y = Name)) +\n",
    "        geom_segment(aes(x=115, y = Name, xend = Combined.score, yend = Name), color ='gray70', size = 1) +\n",
    "        geom_point(aes(color = Combined.score < 100), size = 2) +\n",
    "       geom_text(aes(label = format(Adjusted.p.value, digits =3)),\n",
    "                 nudge_x = ifelse(process$Combined.score < 115, -10,10),\n",
    "                 size = 2.5) +\n",
    "        geom_text(aes(label = Name, x = 115),\n",
    "                  size=3, \n",
    "                  nudge_x = ifelse(process$Combined.score < 115, 3,-3),\n",
    "                  hjust = ifelse(process$Combined.score < 115, 0,1),\n",
    "                  color = 'gray20') +\n",
    "        scale_color_manual(values=c('red3', 'green4')) +\n",
    "        labs(title = 'GO_PROCESS',\n",
    "             subtitle = 'TOP 100 most up and down regulated mRNAs in the tunica media',\n",
    "             x = 'Fold Change (log2)',\n",
    "             caption = 'Number indicates adjusted p.value') +\n",
    "        guides(col = FALSE) +\n",
    "        xlim(0,250)+\n",
    "        theme_void()+\n",
    "        remove_y_axes +\n",
    "        theme(plot.title = element_text(size = 10, face = 'bold'),\n",
    "             plot.subtitle = element_text(size = 8, face = 'bold'))"
   ]
  }
 ],
 "metadata": {
  "kernelspec": {
   "display_name": "R",
   "language": "R",
   "name": "ir"
  },
  "language_info": {
   "codemirror_mode": "r",
   "file_extension": ".r",
   "mimetype": "text/x-r-source",
   "name": "R",
   "pygments_lexer": "r",
   "version": "3.5.1"
  }
 },
 "nbformat": 4,
 "nbformat_minor": 2
}
