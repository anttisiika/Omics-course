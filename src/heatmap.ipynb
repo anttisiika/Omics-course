{
 "cells": [
  {
   "cell_type": "code",
   "execution_count": 1,
   "metadata": {},
   "outputs": [
    {
     "name": "stderr",
     "output_type": "stream",
     "text": [
      "-- Attaching packages --------------------------------------- tidyverse 1.2.1 --\n",
      "v ggplot2 3.1.0     v purrr   0.2.5\n",
      "v tibble  1.4.2     v dplyr   0.7.8\n",
      "v tidyr   0.8.2     v stringr 1.3.1\n",
      "v readr   1.1.1     v forcats 0.3.0\n",
      "-- Conflicts ------------------------------------------ tidyverse_conflicts() --\n",
      "x dplyr::filter() masks stats::filter()\n",
      "x dplyr::lag()    masks stats::lag()\n",
      "Warning message:\n",
      "\"Missing column names filled in: 'X1' [1]\"Parsed with column specification:\n",
      "cols(\n",
      "  X1 = col_integer(),\n",
      "  match = col_logical(),\n",
      "  searchTerm = col_character(),\n",
      "  drugName = col_character(),\n",
      "  geneID = col_integer(),\n",
      "  geneName = col_character(),\n",
      "  longGeneName = col_character(),\n",
      "  interaction = col_character()\n",
      ")\n",
      "Warning message:\n",
      "\"Missing column names filled in: 'X1' [1]\"Parsed with column specification:\n",
      "cols(\n",
      "  X1 = col_integer(),\n",
      "  match = col_character(),\n",
      "  searchTerm = col_character(),\n",
      "  drugName = col_character(),\n",
      "  geneID = col_integer(),\n",
      "  geneName = col_character(),\n",
      "  longGeneName = col_character(),\n",
      "  interaction = col_character()\n",
      ")\n",
      "Parsed with column specification:\n",
      "cols(\n",
      "  .default = col_double(),\n",
      "  `Probe Set ID` = col_character()\n",
      ")\n",
      "See spec(...) for full column specifications.\n",
      "Parsed with column specification:\n",
      "cols(\n",
      "  `Probe Set ID` = col_character(),\n",
      "  `Gene Symbol` = col_character(),\n",
      "  `mRNA Accession` = col_character(),\n",
      "  `mRNA  Source` = col_character(),\n",
      "  `mRna - Description` = col_character(),\n",
      "  `mRNA - xhyb` = col_character(),\n",
      "  `GO Biological Process ID` = col_character(),\n",
      "  `GO Biological Process Term` = col_character(),\n",
      "  `GO Cellular Component ID` = col_character(),\n",
      "  `GO Cellular Component Term` = col_character(),\n",
      "  `GO Molecular Function ID` = col_character(),\n",
      "  `GO Molecular Function Term` = col_character(),\n",
      "  `Pathway Source` = col_character(),\n",
      "  `Pathway Name` = col_character()\n",
      ")\n"
     ]
    }
   ],
   "source": [
    "source('floroq_aaa_interaction.R')"
   ]
  },
  {
   "cell_type": "code",
   "execution_count": 23,
   "metadata": {},
   "outputs": [
    {
     "data": {
      "text/html": [
       "<table>\n",
       "<thead><tr><th scope=col>geneName</th><th scope=col>3A003_TH_adv</th><th scope=col>3A003_TH_med</th><th scope=col>3A004_TH_adv</th><th scope=col>3A004_TH_med</th><th scope=col>3A005_TH_adv</th><th scope=col>3A005_TH_med</th><th scope=col>3A012_TH_adv</th><th scope=col>3A012_TH_med</th><th scope=col>3A013_TH_adv</th><th scope=col>...</th><th scope=col>DAA17_TH_adv</th><th scope=col>DAA17_TH_med</th><th scope=col>DAA20_TH_adv</th><th scope=col>DAA20_TH_med</th><th scope=col>DAA24_TH_adv</th><th scope=col>DAA24_TH_med</th><th scope=col>DAA26_TH_adv</th><th scope=col>DAA26_TH_med</th><th scope=col>DAA27_TH_adv</th><th scope=col>DAA27_TH_med</th></tr></thead>\n",
       "<tbody>\n",
       "\t<tr><td>01-dec   </td><td> 4.286488</td><td> 4.249061</td><td>4.106726 </td><td> 4.335066</td><td> 4.365617</td><td> 3.986007</td><td> 4.338170</td><td> 4.282027</td><td>4.079397 </td><td>...      </td><td> 4.283215</td><td> 4.217659</td><td>4.176424 </td><td> 4.324764</td><td>4.609260 </td><td>4.087932 </td><td>4.242698 </td><td> 4.113125</td><td>4.726386 </td><td> 4.258100</td></tr>\n",
       "\t<tr><td>01-sep   </td><td> 8.708398</td><td> 6.727924</td><td>6.701858 </td><td> 5.945025</td><td> 6.357557</td><td> 5.453104</td><td> 7.513946</td><td> 6.081017</td><td>7.790916 </td><td>...      </td><td> 6.416656</td><td> 5.747074</td><td>5.818053 </td><td> 5.845204</td><td>6.271581 </td><td>6.166153 </td><td>5.854347 </td><td> 5.413225</td><td>6.199409 </td><td> 5.643031</td></tr>\n",
       "\t<tr><td>02-mar   </td><td> 5.854109</td><td> 5.715472</td><td>5.339148 </td><td> 5.195328</td><td> 5.003468</td><td> 5.264660</td><td> 5.663589</td><td> 5.507421</td><td>5.329818 </td><td>...      </td><td> 6.046608</td><td> 5.859059</td><td>6.743392 </td><td> 5.799159</td><td>5.987110 </td><td>5.815696 </td><td>6.594346 </td><td> 6.416267</td><td>5.466720 </td><td> 6.058782</td></tr>\n",
       "\t<tr><td>02-sep   </td><td>10.095170</td><td>10.584870</td><td>9.916068 </td><td>10.076650</td><td>10.079570</td><td>10.647320</td><td>10.050850</td><td>10.349500</td><td>9.986881 </td><td>...      </td><td>10.413260</td><td>10.226070</td><td>9.838826 </td><td>10.185080</td><td>9.372027 </td><td>9.915050 </td><td>9.696939 </td><td>10.095460</td><td>9.661633 </td><td>10.047270</td></tr>\n",
       "\t<tr><td>03-sep   </td><td> 5.357802</td><td> 5.399105</td><td>5.363427 </td><td> 5.475368</td><td> 5.201574</td><td> 5.778318</td><td> 5.257439</td><td> 5.613032</td><td>5.322385 </td><td>...      </td><td> 5.285743</td><td> 5.249061</td><td>5.503129 </td><td> 5.088105</td><td>5.412775 </td><td>5.221214 </td><td>5.221575 </td><td> 4.899024</td><td>5.409626 </td><td> 5.025784</td></tr>\n",
       "\t<tr><td>04-sep   </td><td> 6.637689</td><td> 7.961073</td><td>7.113302 </td><td> 6.762778</td><td> 7.804593</td><td> 7.864443</td><td> 7.214982</td><td> 6.544622</td><td>6.934178 </td><td>...      </td><td> 7.000036</td><td> 7.467829</td><td>6.602685 </td><td> 7.596896</td><td>6.436317 </td><td>7.431512 </td><td>6.172637 </td><td> 6.728692</td><td>6.304392 </td><td> 6.365488</td></tr>\n",
       "</tbody>\n",
       "</table>\n"
      ],
      "text/latex": [
       "\\begin{tabular}{r|lllllllllllllllllllllllllllllllllllllllllll}\n",
       " geneName & 3A003\\_TH\\_adv & 3A003\\_TH\\_med & 3A004\\_TH\\_adv & 3A004\\_TH\\_med & 3A005\\_TH\\_adv & 3A005\\_TH\\_med & 3A012\\_TH\\_adv & 3A012\\_TH\\_med & 3A013\\_TH\\_adv & ... & DAA17\\_TH\\_adv & DAA17\\_TH\\_med & DAA20\\_TH\\_adv & DAA20\\_TH\\_med & DAA24\\_TH\\_adv & DAA24\\_TH\\_med & DAA26\\_TH\\_adv & DAA26\\_TH\\_med & DAA27\\_TH\\_adv & DAA27\\_TH\\_med\\\\\n",
       "\\hline\n",
       "\t 01-dec    &  4.286488 &  4.249061 & 4.106726  &  4.335066 &  4.365617 &  3.986007 &  4.338170 &  4.282027 & 4.079397  & ...       &  4.283215 &  4.217659 & 4.176424  &  4.324764 & 4.609260  & 4.087932  & 4.242698  &  4.113125 & 4.726386  &  4.258100\\\\\n",
       "\t 01-sep    &  8.708398 &  6.727924 & 6.701858  &  5.945025 &  6.357557 &  5.453104 &  7.513946 &  6.081017 & 7.790916  & ...       &  6.416656 &  5.747074 & 5.818053  &  5.845204 & 6.271581  & 6.166153  & 5.854347  &  5.413225 & 6.199409  &  5.643031\\\\\n",
       "\t 02-mar    &  5.854109 &  5.715472 & 5.339148  &  5.195328 &  5.003468 &  5.264660 &  5.663589 &  5.507421 & 5.329818  & ...       &  6.046608 &  5.859059 & 6.743392  &  5.799159 & 5.987110  & 5.815696  & 6.594346  &  6.416267 & 5.466720  &  6.058782\\\\\n",
       "\t 02-sep    & 10.095170 & 10.584870 & 9.916068  & 10.076650 & 10.079570 & 10.647320 & 10.050850 & 10.349500 & 9.986881  & ...       & 10.413260 & 10.226070 & 9.838826  & 10.185080 & 9.372027  & 9.915050  & 9.696939  & 10.095460 & 9.661633  & 10.047270\\\\\n",
       "\t 03-sep    &  5.357802 &  5.399105 & 5.363427  &  5.475368 &  5.201574 &  5.778318 &  5.257439 &  5.613032 & 5.322385  & ...       &  5.285743 &  5.249061 & 5.503129  &  5.088105 & 5.412775  & 5.221214  & 5.221575  &  4.899024 & 5.409626  &  5.025784\\\\\n",
       "\t 04-sep    &  6.637689 &  7.961073 & 7.113302  &  6.762778 &  7.804593 &  7.864443 &  7.214982 &  6.544622 & 6.934178  & ...       &  7.000036 &  7.467829 & 6.602685  &  7.596896 & 6.436317  & 7.431512  & 6.172637  &  6.728692 & 6.304392  &  6.365488\\\\\n",
       "\\end{tabular}\n"
      ],
      "text/markdown": [
       "\n",
       "geneName | 3A003_TH_adv | 3A003_TH_med | 3A004_TH_adv | 3A004_TH_med | 3A005_TH_adv | 3A005_TH_med | 3A012_TH_adv | 3A012_TH_med | 3A013_TH_adv | ... | DAA17_TH_adv | DAA17_TH_med | DAA20_TH_adv | DAA20_TH_med | DAA24_TH_adv | DAA24_TH_med | DAA26_TH_adv | DAA26_TH_med | DAA27_TH_adv | DAA27_TH_med | \n",
       "|---|---|---|---|---|---|\n",
       "| 01-dec    |  4.286488 |  4.249061 | 4.106726  |  4.335066 |  4.365617 |  3.986007 |  4.338170 |  4.282027 | 4.079397  | ...       |  4.283215 |  4.217659 | 4.176424  |  4.324764 | 4.609260  | 4.087932  | 4.242698  |  4.113125 | 4.726386  |  4.258100 | \n",
       "| 01-sep    |  8.708398 |  6.727924 | 6.701858  |  5.945025 |  6.357557 |  5.453104 |  7.513946 |  6.081017 | 7.790916  | ...       |  6.416656 |  5.747074 | 5.818053  |  5.845204 | 6.271581  | 6.166153  | 5.854347  |  5.413225 | 6.199409  |  5.643031 | \n",
       "| 02-mar    |  5.854109 |  5.715472 | 5.339148  |  5.195328 |  5.003468 |  5.264660 |  5.663589 |  5.507421 | 5.329818  | ...       |  6.046608 |  5.859059 | 6.743392  |  5.799159 | 5.987110  | 5.815696  | 6.594346  |  6.416267 | 5.466720  |  6.058782 | \n",
       "| 02-sep    | 10.095170 | 10.584870 | 9.916068  | 10.076650 | 10.079570 | 10.647320 | 10.050850 | 10.349500 | 9.986881  | ...       | 10.413260 | 10.226070 | 9.838826  | 10.185080 | 9.372027  | 9.915050  | 9.696939  | 10.095460 | 9.661633  | 10.047270 | \n",
       "| 03-sep    |  5.357802 |  5.399105 | 5.363427  |  5.475368 |  5.201574 |  5.778318 |  5.257439 |  5.613032 | 5.322385  | ...       |  5.285743 |  5.249061 | 5.503129  |  5.088105 | 5.412775  | 5.221214  | 5.221575  |  4.899024 | 5.409626  |  5.025784 | \n",
       "| 04-sep    |  6.637689 |  7.961073 | 7.113302  |  6.762778 |  7.804593 |  7.864443 |  7.214982 |  6.544622 | 6.934178  | ...       |  7.000036 |  7.467829 | 6.602685  |  7.596896 | 6.436317  | 7.431512  | 6.172637  |  6.728692 | 6.304392  |  6.365488 | \n",
       "\n",
       "\n"
      ],
      "text/plain": [
       "  geneName 3A003_TH_adv 3A003_TH_med 3A004_TH_adv 3A004_TH_med 3A005_TH_adv\n",
       "1 01-dec    4.286488     4.249061    4.106726      4.335066     4.365617   \n",
       "2 01-sep    8.708398     6.727924    6.701858      5.945025     6.357557   \n",
       "3 02-mar    5.854109     5.715472    5.339148      5.195328     5.003468   \n",
       "4 02-sep   10.095170    10.584870    9.916068     10.076650    10.079570   \n",
       "5 03-sep    5.357802     5.399105    5.363427      5.475368     5.201574   \n",
       "6 04-sep    6.637689     7.961073    7.113302      6.762778     7.804593   \n",
       "  3A005_TH_med 3A012_TH_adv 3A012_TH_med 3A013_TH_adv ... DAA17_TH_adv\n",
       "1  3.986007     4.338170     4.282027    4.079397     ...  4.283215   \n",
       "2  5.453104     7.513946     6.081017    7.790916     ...  6.416656   \n",
       "3  5.264660     5.663589     5.507421    5.329818     ...  6.046608   \n",
       "4 10.647320    10.050850    10.349500    9.986881     ... 10.413260   \n",
       "5  5.778318     5.257439     5.613032    5.322385     ...  5.285743   \n",
       "6  7.864443     7.214982     6.544622    6.934178     ...  7.000036   \n",
       "  DAA17_TH_med DAA20_TH_adv DAA20_TH_med DAA24_TH_adv DAA24_TH_med DAA26_TH_adv\n",
       "1  4.217659    4.176424      4.324764    4.609260     4.087932     4.242698    \n",
       "2  5.747074    5.818053      5.845204    6.271581     6.166153     5.854347    \n",
       "3  5.859059    6.743392      5.799159    5.987110     5.815696     6.594346    \n",
       "4 10.226070    9.838826     10.185080    9.372027     9.915050     9.696939    \n",
       "5  5.249061    5.503129      5.088105    5.412775     5.221214     5.221575    \n",
       "6  7.467829    6.602685      7.596896    6.436317     7.431512     6.172637    \n",
       "  DAA26_TH_med DAA27_TH_adv DAA27_TH_med\n",
       "1  4.113125    4.726386      4.258100   \n",
       "2  5.413225    6.199409      5.643031   \n",
       "3  6.416267    5.466720      6.058782   \n",
       "4 10.095460    9.661633     10.047270   \n",
       "5  4.899024    5.409626      5.025784   \n",
       "6  6.728692    6.304392      6.365488   "
      ]
     },
     "metadata": {},
     "output_type": "display_data"
    },
    {
     "data": {
      "text/html": [
       "<ol class=list-inline>\n",
       "\t<li>25877</li>\n",
       "\t<li>43</li>\n",
       "</ol>\n"
      ],
      "text/latex": [
       "\\begin{enumerate*}\n",
       "\\item 25877\n",
       "\\item 43\n",
       "\\end{enumerate*}\n"
      ],
      "text/markdown": [
       "1. 25877\n",
       "2. 43\n",
       "\n",
       "\n"
      ],
      "text/plain": [
       "[1] 25877    43"
      ]
     },
     "metadata": {},
     "output_type": "display_data"
    }
   ],
   "source": [
    "head(df)\n",
    "dim(df)"
   ]
  },
  {
   "cell_type": "code",
   "execution_count": 10,
   "metadata": {},
   "outputs": [
    {
     "data": {
      "text/html": [
       "<table>\n",
       "<thead><tr><th scope=col>geneName</th><th scope=col>variable</th><th scope=col>value</th><th scope=col>status</th><th scope=col>id</th><th scope=col>tissue</th></tr></thead>\n",
       "<tbody>\n",
       "\t<tr><td>01-dec      </td><td>3A003_TH_adv</td><td> 4.286488   </td><td>3           </td><td>3A003       </td><td>adv         </td></tr>\n",
       "\t<tr><td>01-sep      </td><td>3A003_TH_adv</td><td> 8.708398   </td><td>3           </td><td>3A003       </td><td>adv         </td></tr>\n",
       "\t<tr><td>02-mar      </td><td>3A003_TH_adv</td><td> 5.854109   </td><td>3           </td><td>3A003       </td><td>adv         </td></tr>\n",
       "\t<tr><td>02-sep      </td><td>3A003_TH_adv</td><td>10.095170   </td><td>3           </td><td>3A003       </td><td>adv         </td></tr>\n",
       "\t<tr><td>03-sep      </td><td>3A003_TH_adv</td><td> 5.357802   </td><td>3           </td><td>3A003       </td><td>adv         </td></tr>\n",
       "\t<tr><td>04-sep      </td><td>3A003_TH_adv</td><td> 6.637689   </td><td>3           </td><td>3A003       </td><td>adv         </td></tr>\n",
       "</tbody>\n",
       "</table>\n"
      ],
      "text/latex": [
       "\\begin{tabular}{r|llllll}\n",
       " geneName & variable & value & status & id & tissue\\\\\n",
       "\\hline\n",
       "\t 01-dec           & 3A003\\_TH\\_adv &  4.286488        & 3                & 3A003            & adv             \\\\\n",
       "\t 01-sep           & 3A003\\_TH\\_adv &  8.708398        & 3                & 3A003            & adv             \\\\\n",
       "\t 02-mar           & 3A003\\_TH\\_adv &  5.854109        & 3                & 3A003            & adv             \\\\\n",
       "\t 02-sep           & 3A003\\_TH\\_adv & 10.095170        & 3                & 3A003            & adv             \\\\\n",
       "\t 03-sep           & 3A003\\_TH\\_adv &  5.357802        & 3                & 3A003            & adv             \\\\\n",
       "\t 04-sep           & 3A003\\_TH\\_adv &  6.637689        & 3                & 3A003            & adv             \\\\\n",
       "\\end{tabular}\n"
      ],
      "text/markdown": [
       "\n",
       "geneName | variable | value | status | id | tissue | \n",
       "|---|---|---|---|---|---|\n",
       "| 01-dec       | 3A003_TH_adv |  4.286488    | 3            | 3A003        | adv          | \n",
       "| 01-sep       | 3A003_TH_adv |  8.708398    | 3            | 3A003        | adv          | \n",
       "| 02-mar       | 3A003_TH_adv |  5.854109    | 3            | 3A003        | adv          | \n",
       "| 02-sep       | 3A003_TH_adv | 10.095170    | 3            | 3A003        | adv          | \n",
       "| 03-sep       | 3A003_TH_adv |  5.357802    | 3            | 3A003        | adv          | \n",
       "| 04-sep       | 3A003_TH_adv |  6.637689    | 3            | 3A003        | adv          | \n",
       "\n",
       "\n"
      ],
      "text/plain": [
       "  geneName variable     value     status id    tissue\n",
       "1 01-dec   3A003_TH_adv  4.286488 3      3A003 adv   \n",
       "2 01-sep   3A003_TH_adv  8.708398 3      3A003 adv   \n",
       "3 02-mar   3A003_TH_adv  5.854109 3      3A003 adv   \n",
       "4 02-sep   3A003_TH_adv 10.095170 3      3A003 adv   \n",
       "5 03-sep   3A003_TH_adv  5.357802 3      3A003 adv   \n",
       "6 04-sep   3A003_TH_adv  6.637689 3      3A003 adv   "
      ]
     },
     "metadata": {},
     "output_type": "display_data"
    }
   ],
   "source": [
    "head(df_long)"
   ]
  },
  {
   "cell_type": "code",
   "execution_count": 16,
   "metadata": {},
   "outputs": [],
   "source": [
    "library(gplots);library(RColorBrewer)"
   ]
  },
  {
   "cell_type": "code",
   "execution_count": 70,
   "metadata": {},
   "outputs": [],
   "source": [
    "df_long  %>% \n",
    "    group_by(geneName)  %>% \n",
    "    summarize(var = var(value))  %>% \n",
    "    arrange(desc(var))  %>% \n",
    "    head(100)  ->\n",
    "    top100_var_genes"
   ]
  },
  {
   "cell_type": "code",
   "execution_count": 71,
   "metadata": {},
   "outputs": [],
   "source": [
    "df  %>% \n",
    "    select(geneName, matches('_adv'))  %>% \n",
    "    filter(geneName %in% top100_var_genes$geneName) ->\n",
    "    heat\n",
    "    "
   ]
  },
  {
   "cell_type": "code",
   "execution_count": 72,
   "metadata": {},
   "outputs": [],
   "source": [
    "clabs <- str_sub(colnames(heat)[2:22], 1,2) \n",
    "colss <- ifelse(clabs =='3A','blue', 'red')\n",
    "#colss[clabs == '3A'] <- 'red'"
   ]
  },
  {
   "cell_type": "code",
   "execution_count": 73,
   "metadata": {},
   "outputs": [
    {
     "data": {
      "text/html": [
       "<ol class=list-inline>\n",
       "\t<li>'3A'</li>\n",
       "\t<li>'3A'</li>\n",
       "\t<li>'3A'</li>\n",
       "\t<li>'3A'</li>\n",
       "\t<li>'3A'</li>\n",
       "\t<li>'3A'</li>\n",
       "\t<li>'3A'</li>\n",
       "\t<li>'3A'</li>\n",
       "\t<li>'3A'</li>\n",
       "\t<li>'3A'</li>\n",
       "\t<li>'DA'</li>\n",
       "\t<li>'DA'</li>\n",
       "\t<li>'DA'</li>\n",
       "\t<li>'DA'</li>\n",
       "\t<li>'DA'</li>\n",
       "\t<li>'DA'</li>\n",
       "\t<li>'DA'</li>\n",
       "\t<li>'DA'</li>\n",
       "\t<li>'DA'</li>\n",
       "\t<li>'DA'</li>\n",
       "\t<li>'DA'</li>\n",
       "</ol>\n"
      ],
      "text/latex": [
       "\\begin{enumerate*}\n",
       "\\item '3A'\n",
       "\\item '3A'\n",
       "\\item '3A'\n",
       "\\item '3A'\n",
       "\\item '3A'\n",
       "\\item '3A'\n",
       "\\item '3A'\n",
       "\\item '3A'\n",
       "\\item '3A'\n",
       "\\item '3A'\n",
       "\\item 'DA'\n",
       "\\item 'DA'\n",
       "\\item 'DA'\n",
       "\\item 'DA'\n",
       "\\item 'DA'\n",
       "\\item 'DA'\n",
       "\\item 'DA'\n",
       "\\item 'DA'\n",
       "\\item 'DA'\n",
       "\\item 'DA'\n",
       "\\item 'DA'\n",
       "\\end{enumerate*}\n"
      ],
      "text/markdown": [
       "1. '3A'\n",
       "2. '3A'\n",
       "3. '3A'\n",
       "4. '3A'\n",
       "5. '3A'\n",
       "6. '3A'\n",
       "7. '3A'\n",
       "8. '3A'\n",
       "9. '3A'\n",
       "10. '3A'\n",
       "11. 'DA'\n",
       "12. 'DA'\n",
       "13. 'DA'\n",
       "14. 'DA'\n",
       "15. 'DA'\n",
       "16. 'DA'\n",
       "17. 'DA'\n",
       "18. 'DA'\n",
       "19. 'DA'\n",
       "20. 'DA'\n",
       "21. 'DA'\n",
       "\n",
       "\n"
      ],
      "text/plain": [
       " [1] \"3A\" \"3A\" \"3A\" \"3A\" \"3A\" \"3A\" \"3A\" \"3A\" \"3A\" \"3A\" \"DA\" \"DA\" \"DA\" \"DA\" \"DA\"\n",
       "[16] \"DA\" \"DA\" \"DA\" \"DA\" \"DA\" \"DA\""
      ]
     },
     "metadata": {},
     "output_type": "display_data"
    },
    {
     "data": {
      "text/html": [
       "<ol class=list-inline>\n",
       "\t<li>'blue'</li>\n",
       "\t<li>'blue'</li>\n",
       "\t<li>'blue'</li>\n",
       "\t<li>'blue'</li>\n",
       "\t<li>'blue'</li>\n",
       "\t<li>'blue'</li>\n",
       "\t<li>'blue'</li>\n",
       "\t<li>'blue'</li>\n",
       "\t<li>'blue'</li>\n",
       "\t<li>'blue'</li>\n",
       "\t<li>'red'</li>\n",
       "\t<li>'red'</li>\n",
       "\t<li>'red'</li>\n",
       "\t<li>'red'</li>\n",
       "\t<li>'red'</li>\n",
       "\t<li>'red'</li>\n",
       "\t<li>'red'</li>\n",
       "\t<li>'red'</li>\n",
       "\t<li>'red'</li>\n",
       "\t<li>'red'</li>\n",
       "\t<li>'red'</li>\n",
       "</ol>\n"
      ],
      "text/latex": [
       "\\begin{enumerate*}\n",
       "\\item 'blue'\n",
       "\\item 'blue'\n",
       "\\item 'blue'\n",
       "\\item 'blue'\n",
       "\\item 'blue'\n",
       "\\item 'blue'\n",
       "\\item 'blue'\n",
       "\\item 'blue'\n",
       "\\item 'blue'\n",
       "\\item 'blue'\n",
       "\\item 'red'\n",
       "\\item 'red'\n",
       "\\item 'red'\n",
       "\\item 'red'\n",
       "\\item 'red'\n",
       "\\item 'red'\n",
       "\\item 'red'\n",
       "\\item 'red'\n",
       "\\item 'red'\n",
       "\\item 'red'\n",
       "\\item 'red'\n",
       "\\end{enumerate*}\n"
      ],
      "text/markdown": [
       "1. 'blue'\n",
       "2. 'blue'\n",
       "3. 'blue'\n",
       "4. 'blue'\n",
       "5. 'blue'\n",
       "6. 'blue'\n",
       "7. 'blue'\n",
       "8. 'blue'\n",
       "9. 'blue'\n",
       "10. 'blue'\n",
       "11. 'red'\n",
       "12. 'red'\n",
       "13. 'red'\n",
       "14. 'red'\n",
       "15. 'red'\n",
       "16. 'red'\n",
       "17. 'red'\n",
       "18. 'red'\n",
       "19. 'red'\n",
       "20. 'red'\n",
       "21. 'red'\n",
       "\n",
       "\n"
      ],
      "text/plain": [
       " [1] \"blue\" \"blue\" \"blue\" \"blue\" \"blue\" \"blue\" \"blue\" \"blue\" \"blue\" \"blue\"\n",
       "[11] \"red\"  \"red\"  \"red\"  \"red\"  \"red\"  \"red\"  \"red\"  \"red\"  \"red\"  \"red\" \n",
       "[21] \"red\" "
      ]
     },
     "metadata": {},
     "output_type": "display_data"
    }
   ],
   "source": [
    "clabs\n",
    "colss"
   ]
  },
  {
   "cell_type": "code",
   "execution_count": 74,
   "metadata": {},
   "outputs": [
    {
     "data": {
      "image/png": "[encoded data removed]",
      "text/plain": [
       "Plot with title \"\""
      ]
     },
     "metadata": {},
     "output_type": "display_data"
    }
   ],
   "source": [
    "options(repr.plot.width=6, repr.plot.height=14)\n",
    "\n",
    "\n",
    "X <- as.matrix(heat[,2:22])\n",
    "clabs <- clabs\n",
    "colss <- colss\n",
    "rlabs <- heat$geneName\n",
    "\n",
    "#heatmap(X, col=heat.colors(nrow(X)), main= \"\", labCol = clabs, cexCol = 1, labRow = rlabs)\n",
    "\n",
    "scx<-scale(X, center = T, scale = T)\n",
    "\n",
    "palette<-colorRampPalette(c(\"purple\", \"white\", \"orange\"))(n=nrow(scx))\n",
    "heatmap.2(scx, trace = \"none\", labCol = \"\", cexCol = 1, labRow=rlabs,col = palette, keysize = 1, main = \"\",\n",
    "          ColSideColors=colss, key=F, hclustfun = function(x){hclust(x,method = \"ward.D\")},distfun = function(x) \n",
    "          {as.dist(1 - cor(t(x), method=\"spearman\"))})\n",
    "\n",
    "\n",
    "\n",
    "\n"
   ]
  },
  {
   "cell_type": "code",
   "execution_count": 42,
   "metadata": {},
   "outputs": [
    {
     "data": {
      "text/html": [
       "<ol class=list-inline>\n",
       "\t<li>100</li>\n",
       "\t<li>22</li>\n",
       "</ol>\n"
      ],
      "text/latex": [
       "\\begin{enumerate*}\n",
       "\\item 100\n",
       "\\item 22\n",
       "\\end{enumerate*}\n"
      ],
      "text/markdown": [
       "1. 100\n",
       "2. 22\n",
       "\n",
       "\n"
      ],
      "text/plain": [
       "[1] 100  22"
      ]
     },
     "metadata": {},
     "output_type": "display_data"
    }
   ],
   "source": [
    "dim(heat)"
   ]
  },
  {
   "cell_type": "code",
   "execution_count": 52,
   "metadata": {},
   "outputs": [
    {
     "data": {
      "text/html": [
       "42"
      ],
      "text/latex": [
       "42"
      ],
      "text/markdown": [
       "42"
      ],
      "text/plain": [
       "[1] 42"
      ]
     },
     "metadata": {},
     "output_type": "display_data"
    }
   ],
   "source": [
    "length(colss)"
   ]
  },
  {
   "cell_type": "code",
   "execution_count": 69,
   "metadata": {},
   "outputs": [
    {
     "data": {
      "text/html": [
       "<ol class=list-inline>\n",
       "\t<li>33494</li>\n",
       "\t<li>2</li>\n",
       "</ol>\n"
      ],
      "text/latex": [
       "\\begin{enumerate*}\n",
       "\\item 33494\n",
       "\\item 2\n",
       "\\end{enumerate*}\n"
      ],
      "text/markdown": [
       "1. 33494\n",
       "2. 2\n",
       "\n",
       "\n"
      ],
      "text/plain": [
       "[1] 33494     2"
      ]
     },
     "metadata": {},
     "output_type": "display_data"
    }
   ],
   "source": [
    "dim(features)"
   ]
  },
  {
   "cell_type": "code",
   "execution_count": null,
   "metadata": {},
   "outputs": [],
   "source": []
  },
  {
   "cell_type": "code",
   "execution_count": null,
   "metadata": {},
   "outputs": [],
   "source": []
  },
  {
   "cell_type": "code",
   "execution_count": null,
   "metadata": {},
   "outputs": [],
   "source": []
  },
  {
   "cell_type": "code",
   "execution_count": 78,
   "metadata": {},
   "outputs": [
    {
     "data": {
      "text/html": [
       "<ol class=list-inline>\n",
       "\t<li>'AMOXICILLIN'</li>\n",
       "\t<li>'AMPICILLIN'</li>\n",
       "\t<li>'PENICILLIN G POTASSIUM'</li>\n",
       "\t<li>'BENZYLPENICILLOYL POLYLYSINE'</li>\n",
       "\t<li>'CEFACLOR'</li>\n",
       "\t<li>'CEFADROXIL'</li>\n",
       "\t<li>'CEPHAPIRIN'</li>\n",
       "\t<li>'CEFAZOLIN'</li>\n",
       "\t<li>'CEFDINIR'</li>\n",
       "\t<li>'CEFEPIME'</li>\n",
       "\t<li>'CEFIXIME'</li>\n",
       "\t<li>'CEFORANIDE'</li>\n",
       "\t<li>'CEFOTAXIME'</li>\n",
       "\t<li>'CEFPIRAMIDE'</li>\n",
       "\t<li>'CEPHRADINE'</li>\n",
       "\t<li>'CEFTAZIDIME'</li>\n",
       "\t<li>'CEFUROXIME'</li>\n",
       "\t<li>'CEPHALEXIN HYDRATE'</li>\n",
       "\t<li>'CLAVULANIC ACID'</li>\n",
       "\t<li>'DICLOXACILLIN'</li>\n",
       "\t<li>'FLOXACILLIN'</li>\n",
       "\t<li>'MOXALACTAM'</li>\n",
       "\t<li>'MEROPENEM'</li>\n",
       "\t<li>'METHICILLIN'</li>\n",
       "\t<li>'NAFCILLIN'</li>\n",
       "\t<li>'OXACILLIN'</li>\n",
       "\t<li>'TICARCILLIN'</li>\n",
       "</ol>\n"
      ],
      "text/latex": [
       "\\begin{enumerate*}\n",
       "\\item 'AMOXICILLIN'\n",
       "\\item 'AMPICILLIN'\n",
       "\\item 'PENICILLIN G POTASSIUM'\n",
       "\\item 'BENZYLPENICILLOYL POLYLYSINE'\n",
       "\\item 'CEFACLOR'\n",
       "\\item 'CEFADROXIL'\n",
       "\\item 'CEPHAPIRIN'\n",
       "\\item 'CEFAZOLIN'\n",
       "\\item 'CEFDINIR'\n",
       "\\item 'CEFEPIME'\n",
       "\\item 'CEFIXIME'\n",
       "\\item 'CEFORANIDE'\n",
       "\\item 'CEFOTAXIME'\n",
       "\\item 'CEFPIRAMIDE'\n",
       "\\item 'CEPHRADINE'\n",
       "\\item 'CEFTAZIDIME'\n",
       "\\item 'CEFUROXIME'\n",
       "\\item 'CEPHALEXIN HYDRATE'\n",
       "\\item 'CLAVULANIC ACID'\n",
       "\\item 'DICLOXACILLIN'\n",
       "\\item 'FLOXACILLIN'\n",
       "\\item 'MOXALACTAM'\n",
       "\\item 'MEROPENEM'\n",
       "\\item 'METHICILLIN'\n",
       "\\item 'NAFCILLIN'\n",
       "\\item 'OXACILLIN'\n",
       "\\item 'TICARCILLIN'\n",
       "\\end{enumerate*}\n"
      ],
      "text/markdown": [
       "1. 'AMOXICILLIN'\n",
       "2. 'AMPICILLIN'\n",
       "3. 'PENICILLIN G POTASSIUM'\n",
       "4. 'BENZYLPENICILLOYL POLYLYSINE'\n",
       "5. 'CEFACLOR'\n",
       "6. 'CEFADROXIL'\n",
       "7. 'CEPHAPIRIN'\n",
       "8. 'CEFAZOLIN'\n",
       "9. 'CEFDINIR'\n",
       "10. 'CEFEPIME'\n",
       "11. 'CEFIXIME'\n",
       "12. 'CEFORANIDE'\n",
       "13. 'CEFOTAXIME'\n",
       "14. 'CEFPIRAMIDE'\n",
       "15. 'CEPHRADINE'\n",
       "16. 'CEFTAZIDIME'\n",
       "17. 'CEFUROXIME'\n",
       "18. 'CEPHALEXIN HYDRATE'\n",
       "19. 'CLAVULANIC ACID'\n",
       "20. 'DICLOXACILLIN'\n",
       "21. 'FLOXACILLIN'\n",
       "22. 'MOXALACTAM'\n",
       "23. 'MEROPENEM'\n",
       "24. 'METHICILLIN'\n",
       "25. 'NAFCILLIN'\n",
       "26. 'OXACILLIN'\n",
       "27. 'TICARCILLIN'\n",
       "\n",
       "\n"
      ],
      "text/plain": [
       " [1] \"AMOXICILLIN\"                  \"AMPICILLIN\"                  \n",
       " [3] \"PENICILLIN G POTASSIUM\"       \"BENZYLPENICILLOYL POLYLYSINE\"\n",
       " [5] \"CEFACLOR\"                     \"CEFADROXIL\"                  \n",
       " [7] \"CEPHAPIRIN\"                   \"CEFAZOLIN\"                   \n",
       " [9] \"CEFDINIR\"                     \"CEFEPIME\"                    \n",
       "[11] \"CEFIXIME\"                     \"CEFORANIDE\"                  \n",
       "[13] \"CEFOTAXIME\"                   \"CEFPIRAMIDE\"                 \n",
       "[15] \"CEPHRADINE\"                   \"CEFTAZIDIME\"                 \n",
       "[17] \"CEFUROXIME\"                   \"CEPHALEXIN HYDRATE\"          \n",
       "[19] \"CLAVULANIC ACID\"              \"DICLOXACILLIN\"               \n",
       "[21] \"FLOXACILLIN\"                  \"MOXALACTAM\"                  \n",
       "[23] \"MEROPENEM\"                    \"METHICILLIN\"                 \n",
       "[25] \"NAFCILLIN\"                    \"OXACILLIN\"                   \n",
       "[27] \"TICARCILLIN\"                 "
      ]
     },
     "metadata": {},
     "output_type": "display_data"
    }
   ],
   "source": [
    "unique(beta_lactams$drugName)"
   ]
  },
  {
   "cell_type": "code",
   "execution_count": 79,
   "metadata": {},
   "outputs": [
    {
     "data": {
      "text/html": [
       "<ol class=list-inline>\n",
       "\t<li>'FLEROXACIN'</li>\n",
       "\t<li>'OFLOXACIN'</li>\n",
       "\t<li>'LOMEFLOXACIN'</li>\n",
       "\t<li>'GATIFLOXACIN'</li>\n",
       "\t<li>'NALIDIXIC ACID'</li>\n",
       "\t<li>'ROSOXACIN'</li>\n",
       "\t<li>'CIPROFLOXACIN'</li>\n",
       "\t<li>'ENOXACIN'</li>\n",
       "\t<li>'TROVAFLOXACIN'</li>\n",
       "\t<li>'LEVOFLOXACIN'</li>\n",
       "\t<li>'GEMIFLOXACIN'</li>\n",
       "\t<li>'MOXIFLOXACIN'</li>\n",
       "\t<li>'PEFLOXACIN'</li>\n",
       "\t<li>'NORFLOXACIN'</li>\n",
       "\t<li>'SPARFLOXACIN'</li>\n",
       "\t<li>'CINOXACIN'</li>\n",
       "\t<li>'GREPAFLOXACIN'</li>\n",
       "</ol>\n"
      ],
      "text/latex": [
       "\\begin{enumerate*}\n",
       "\\item 'FLEROXACIN'\n",
       "\\item 'OFLOXACIN'\n",
       "\\item 'LOMEFLOXACIN'\n",
       "\\item 'GATIFLOXACIN'\n",
       "\\item 'NALIDIXIC ACID'\n",
       "\\item 'ROSOXACIN'\n",
       "\\item 'CIPROFLOXACIN'\n",
       "\\item 'ENOXACIN'\n",
       "\\item 'TROVAFLOXACIN'\n",
       "\\item 'LEVOFLOXACIN'\n",
       "\\item 'GEMIFLOXACIN'\n",
       "\\item 'MOXIFLOXACIN'\n",
       "\\item 'PEFLOXACIN'\n",
       "\\item 'NORFLOXACIN'\n",
       "\\item 'SPARFLOXACIN'\n",
       "\\item 'CINOXACIN'\n",
       "\\item 'GREPAFLOXACIN'\n",
       "\\end{enumerate*}\n"
      ],
      "text/markdown": [
       "1. 'FLEROXACIN'\n",
       "2. 'OFLOXACIN'\n",
       "3. 'LOMEFLOXACIN'\n",
       "4. 'GATIFLOXACIN'\n",
       "5. 'NALIDIXIC ACID'\n",
       "6. 'ROSOXACIN'\n",
       "7. 'CIPROFLOXACIN'\n",
       "8. 'ENOXACIN'\n",
       "9. 'TROVAFLOXACIN'\n",
       "10. 'LEVOFLOXACIN'\n",
       "11. 'GEMIFLOXACIN'\n",
       "12. 'MOXIFLOXACIN'\n",
       "13. 'PEFLOXACIN'\n",
       "14. 'NORFLOXACIN'\n",
       "15. 'SPARFLOXACIN'\n",
       "16. 'CINOXACIN'\n",
       "17. 'GREPAFLOXACIN'\n",
       "\n",
       "\n"
      ],
      "text/plain": [
       " [1] \"FLEROXACIN\"     \"OFLOXACIN\"      \"LOMEFLOXACIN\"   \"GATIFLOXACIN\"  \n",
       " [5] \"NALIDIXIC ACID\" \"ROSOXACIN\"      \"CIPROFLOXACIN\"  \"ENOXACIN\"      \n",
       " [9] \"TROVAFLOXACIN\"  \"LEVOFLOXACIN\"   \"GEMIFLOXACIN\"   \"MOXIFLOXACIN\"  \n",
       "[13] \"PEFLOXACIN\"     \"NORFLOXACIN\"    \"SPARFLOXACIN\"   \"CINOXACIN\"     \n",
       "[17] \"GREPAFLOXACIN\" "
      ]
     },
     "metadata": {},
     "output_type": "display_data"
    }
   ],
   "source": [
    "unique(drug_interactions$drugName)"
   ]
  }
 ],
 "metadata": {
  "kernelspec": {
   "display_name": "R",
   "language": "R",
   "name": "ir"
  },
  "language_info": {
   "codemirror_mode": "r",
   "file_extension": ".r",
   "mimetype": "text/x-r-source",
   "name": "R",
   "pygments_lexer": "r",
   "version": "3.5.1"
  }
 },
 "nbformat": 4,
 "nbformat_minor": 2
}
